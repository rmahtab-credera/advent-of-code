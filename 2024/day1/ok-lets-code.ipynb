{
 "cells": [
  {
   "cell_type": "code",
   "execution_count": 1,
   "id": "2b6d5309",
   "metadata": {},
   "outputs": [],
   "source": [
    "import pandas as pd"
   ]
  },
  {
   "cell_type": "markdown",
   "id": "78749a27",
   "metadata": {},
   "source": [
    "### Part 1"
   ]
  },
  {
   "cell_type": "code",
   "execution_count": 23,
   "id": "9cb14698",
   "metadata": {},
   "outputs": [
    {
     "name": "stdout",
     "output_type": "stream",
     "text": [
      "1873376\n"
     ]
    }
   ],
   "source": [
    "# Read data\n",
    "df = pd.read_csv(\"input.txt\", engine=\"python\", header=None, names=[\"list1\", \"list2\"], sep=\"  \")\n",
    "\n",
    "# Sort lists\n",
    "df[\"list1\"] = sorted(df[\"list1\"])\n",
    "df[\"list2\"] = sorted(df[\"list2\"])\n",
    "\n",
    "# Compute deltas\n",
    "df[\"delta\"] = abs(df[\"list1\"] - df[\"list2\"])\n",
    "\n",
    "# Print sum of deltas\n",
    "print(df[\"delta\"].sum())"
   ]
  },
  {
   "cell_type": "markdown",
   "id": "46f8b1cc",
   "metadata": {},
   "source": [
    "### Part 2"
   ]
  },
  {
   "cell_type": "code",
   "execution_count": 27,
   "id": "ab494afb",
   "metadata": {},
   "outputs": [],
   "source": [
    "\n",
    "l1 = sorted(df[\"list1\"])\n",
    "l2 = sorted(df[\"list2\"])"
   ]
  },
  {
   "cell_type": "code",
   "execution_count": 31,
   "id": "600be2db",
   "metadata": {},
   "outputs": [
    {
     "data": {
      "text/plain": [
       "18997088"
      ]
     },
     "execution_count": 31,
     "metadata": {},
     "output_type": "execute_result"
    }
   ],
   "source": [
    "res = 0\n",
    "\n",
    "for x in set(l1):\n",
    "    res += x * l2.count(x)\n",
    "\n",
    "res"
   ]
  },
  {
   "cell_type": "code",
   "execution_count": null,
   "id": "70229a48",
   "metadata": {},
   "outputs": [],
   "source": []
  }
 ],
 "metadata": {
  "kernelspec": {
   "display_name": "Python 3 (ipykernel)",
   "language": "python",
   "name": "python3"
  },
  "language_info": {
   "codemirror_mode": {
    "name": "ipython",
    "version": 3
   },
   "file_extension": ".py",
   "mimetype": "text/x-python",
   "name": "python",
   "nbconvert_exporter": "python",
   "pygments_lexer": "ipython3",
   "version": "3.10.0"
  }
 },
 "nbformat": 4,
 "nbformat_minor": 5
}
