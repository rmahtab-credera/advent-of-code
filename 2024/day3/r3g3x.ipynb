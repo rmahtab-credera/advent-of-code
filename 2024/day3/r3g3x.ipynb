{
 "cells": [
  {
   "cell_type": "code",
   "execution_count": 14,
   "id": "83f02fbd",
   "metadata": {},
   "outputs": [],
   "source": [
    "import re"
   ]
  },
  {
   "cell_type": "code",
   "execution_count": 15,
   "id": "f609347e",
   "metadata": {},
   "outputs": [],
   "source": [
    "with open(\"input.txt\") as f:\n",
    "    data = f.read()"
   ]
  },
  {
   "cell_type": "markdown",
   "id": "44cc482a",
   "metadata": {},
   "source": [
    "### Part 1"
   ]
  },
  {
   "cell_type": "code",
   "execution_count": 16,
   "id": "04663a63",
   "metadata": {},
   "outputs": [],
   "source": [
    "matches = re.findall(string=data, pattern=\"mul\\(\\d+,\\d+\\)\")"
   ]
  },
  {
   "cell_type": "code",
   "execution_count": 17,
   "id": "6f5d775a",
   "metadata": {},
   "outputs": [
    {
     "data": {
      "text/plain": [
       "189600467"
      ]
     },
     "execution_count": 17,
     "metadata": {},
     "output_type": "execute_result"
    }
   ],
   "source": [
    "def mul(s):\n",
    "    x = int(s.split(\"mul(\")[1].split(\",\")[0])\n",
    "    y = int(s.split(\",\")[1][:-1])\n",
    "    return x*y\n",
    "\n",
    "sum(map(mul, matches))"
   ]
  },
  {
   "cell_type": "markdown",
   "id": "5edd413b",
   "metadata": {},
   "source": [
    "### Part 2"
   ]
  },
  {
   "cell_type": "code",
   "execution_count": 45,
   "id": "f75266a3",
   "metadata": {},
   "outputs": [],
   "source": [
    "enabler = \"do()\"\n",
    "disabler = \"don't()\"\n",
    "enabled = True\n",
    "cleaned_data = \"\"\n",
    "\n",
    "for i in range(len(data)):\n",
    "    if data[i:i+len(disabler)] == disabler:\n",
    "        enabled = False\n",
    "    \n",
    "    if data[i:i+len(enabler)] == enabler:\n",
    "        enabled = True\n",
    "    \n",
    "    if enabled:\n",
    "        cleaned_data += data[i]"
   ]
  },
  {
   "cell_type": "code",
   "execution_count": 48,
   "id": "bfcba3a4",
   "metadata": {},
   "outputs": [],
   "source": [
    "matches2 = re.findall(string=cleaned_data, pattern=\"mul\\(\\d+,\\d+\\)\")"
   ]
  },
  {
   "cell_type": "code",
   "execution_count": 49,
   "id": "5f01dc03",
   "metadata": {},
   "outputs": [
    {
     "name": "stdout",
     "output_type": "stream",
     "text": [
      "19498\n",
      "10697\n"
     ]
    }
   ],
   "source": [
    "print(len(data))\n",
    "print(len(cleaned_data))"
   ]
  },
  {
   "cell_type": "code",
   "execution_count": 50,
   "id": "d95dbcae",
   "metadata": {},
   "outputs": [
    {
     "data": {
      "text/plain": [
       "107069718"
      ]
     },
     "execution_count": 50,
     "metadata": {},
     "output_type": "execute_result"
    }
   ],
   "source": [
    "sum(map(mul, matches2))"
   ]
  }
 ],
 "metadata": {
  "kernelspec": {
   "display_name": "Python 3 (ipykernel)",
   "language": "python",
   "name": "python3"
  },
  "language_info": {
   "codemirror_mode": {
    "name": "ipython",
    "version": 3
   },
   "file_extension": ".py",
   "mimetype": "text/x-python",
   "name": "python",
   "nbconvert_exporter": "python",
   "pygments_lexer": "ipython3",
   "version": "3.10.0"
  }
 },
 "nbformat": 4,
 "nbformat_minor": 5
}
