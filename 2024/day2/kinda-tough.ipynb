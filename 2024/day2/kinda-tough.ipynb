{
 "cells": [
  {
   "cell_type": "code",
   "execution_count": null,
   "id": "45e421c3",
   "metadata": {},
   "outputs": [],
   "source": [
    "import numpy as np\n",
    "import pandas as pd"
   ]
  },
  {
   "cell_type": "markdown",
   "id": "fb8abf2e",
   "metadata": {},
   "source": [
    "### Part 1"
   ]
  },
  {
   "cell_type": "code",
   "execution_count": null,
   "id": "08237688",
   "metadata": {},
   "outputs": [],
   "source": [
    "with open(\"input.txt\") as f:\n",
    "    data = [[np.array([int(item) for item in sublist[:-1].split()])] for sublist in f.readlines()]\n",
    "\n",
    "df = pd.DataFrame(data, columns=[\"vec\"])"
   ]
  },
  {
   "cell_type": "code",
   "execution_count": null,
   "id": "f1ed23bb",
   "metadata": {},
   "outputs": [],
   "source": [
    "def is_strictly_increasing(vec):\n",
    "    deltas = vec[1:] - vec[:-1]\n",
    "    return all(deltas>0)\n",
    "\n",
    "def is_strictly_decreasing(vec):\n",
    "    deltas = vec[1:] - vec[:-1]\n",
    "    return all((-deltas)>0)\n",
    "\n",
    "def get_max_delta(vec):\n",
    "    return int(max(abs(vec[1:] - vec[:-1])))\n",
    "\n",
    "df[\"strictly_inc\"] = df[\"vec\"].apply(is_strictly_increasing)\n",
    "df[\"strictly_dec\"] = df[\"vec\"].apply(is_strictly_decreasing)\n",
    "df[\"max_delta\"] = df[\"vec\"].apply(get_max_delta)\n",
    "\n",
    "df = df[(df[\"strictly_inc\"] == True) | (df[\"strictly_dec\"] == True)]\n",
    "df = df[(df[\"max_delta\"] >= 1) & (df[\"max_delta\"] <= 3)]"
   ]
  },
  {
   "cell_type": "code",
   "execution_count": null,
   "id": "65d8a312",
   "metadata": {},
   "outputs": [],
   "source": [
    "print(df.shape[0] + 1)"
   ]
  },
  {
   "cell_type": "code",
   "execution_count": null,
   "id": "89419c5a",
   "metadata": {},
   "outputs": [],
   "source": []
  }
 ],
 "metadata": {
  "kernelspec": {
   "display_name": "Python 3 (ipykernel)",
   "language": "python",
   "name": "python3"
  },
  "language_info": {
   "codemirror_mode": {
    "name": "ipython",
    "version": 3
   },
   "file_extension": ".py",
   "mimetype": "text/x-python",
   "name": "python",
   "nbconvert_exporter": "python",
   "pygments_lexer": "ipython3",
   "version": "3.10.0"
  }
 },
 "nbformat": 4,
 "nbformat_minor": 5
}
