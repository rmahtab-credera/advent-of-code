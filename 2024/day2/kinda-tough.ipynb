{
 "cells": [
  {
   "cell_type": "code",
   "execution_count": 2,
   "id": "45e421c3",
   "metadata": {},
   "outputs": [],
   "source": [
    "import numpy as np\n",
    "import pandas as pd"
   ]
  },
  {
   "cell_type": "markdown",
   "id": "fb8abf2e",
   "metadata": {},
   "source": [
    "### Part 1"
   ]
  },
  {
   "cell_type": "code",
   "execution_count": 49,
   "id": "08237688",
   "metadata": {},
   "outputs": [],
   "source": [
    "with open(\"input.txt\") as f:\n",
    "    data = [[int(item) for item in sublist[:-1].split()] for sublist in f.readlines()]"
   ]
  },
  {
   "cell_type": "code",
   "execution_count": 50,
   "id": "8522d4db",
   "metadata": {},
   "outputs": [],
   "source": [
    "test0 = [7,6,4,2,1]\n",
    "test1 = [1,3,2,4,5]\n",
    "test2 = [10,8,12,14,15]\n",
    "test3 = [20,21,19,22,23]\n",
    "test4 = [8,6,4,4,1]\n",
    "test5 = [1,4,5,6,7]\n",
    "tests = [test0, test1, test2, test3, test4, test5]"
   ]
  },
  {
   "cell_type": "code",
   "execution_count": 51,
   "id": "39ff028a",
   "metadata": {},
   "outputs": [
    {
     "name": "stdout",
     "output_type": "stream",
     "text": [
      "489\n"
     ]
    }
   ],
   "source": [
    "def is_safe(vec):\n",
    "    deltas = (np.array(vec[1:]) - np.array(vec[:-1]))\n",
    "    if all(deltas > 0) or all((-deltas) > 0):\n",
    "        if max(abs(deltas)) <= 3:\n",
    "            return True\n",
    "    \n",
    "    return False\n",
    "\n",
    "print(sum([is_safe(row) for row in data]))"
   ]
  },
  {
   "cell_type": "markdown",
   "id": "91058746",
   "metadata": {},
   "source": [
    "### Part 2"
   ]
  },
  {
   "cell_type": "code",
   "execution_count": 52,
   "id": "8181ccf0",
   "metadata": {},
   "outputs": [],
   "source": [
    "def is_safe_2(vec):\n",
    "    if is_safe(vec):\n",
    "        return True\n",
    "    \n",
    "    alts = [vec[:i] + vec[i+1:] for i in range(len(vec))]\n",
    "    for alt in alts:\n",
    "        if is_safe(alt):\n",
    "            return True\n",
    "    \n",
    "    return False"
   ]
  },
  {
   "cell_type": "code",
   "execution_count": 48,
   "id": "9ff2fa8c",
   "metadata": {},
   "outputs": [
    {
     "name": "stdout",
     "output_type": "stream",
     "text": [
      "[7, 6, 4, 2, 1] True\n",
      "[1, 3, 2, 4, 5] True\n",
      "[10, 8, 12, 14, 15] True\n",
      "[20, 21, 19, 22, 23] True\n",
      "[8, 6, 4, 4, 1] True\n",
      "[1, 4, 5, 6, 7] True\n"
     ]
    }
   ],
   "source": [
    "print(sum([is_safe_2(test))"
   ]
  },
  {
   "cell_type": "code",
   "execution_count": null,
   "id": "9dfedc0d",
   "metadata": {},
   "outputs": [],
   "source": []
  }
 ],
 "metadata": {
  "kernelspec": {
   "display_name": "Python 3 (ipykernel)",
   "language": "python",
   "name": "python3"
  },
  "language_info": {
   "codemirror_mode": {
    "name": "ipython",
    "version": 3
   },
   "file_extension": ".py",
   "mimetype": "text/x-python",
   "name": "python",
   "nbconvert_exporter": "python",
   "pygments_lexer": "ipython3",
   "version": "3.10.0"
  }
 },
 "nbformat": 4,
 "nbformat_minor": 5
}
